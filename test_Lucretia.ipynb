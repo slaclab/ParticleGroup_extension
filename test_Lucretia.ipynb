{
 "cells": [
  {
   "cell_type": "code",
   "execution_count": 12,
   "metadata": {},
   "outputs": [],
   "source": [
    "import numpy as np\n",
    "from Lucretia import read_lucretia, write_lucretia"
   ]
  },
  {
   "cell_type": "code",
   "execution_count": 7,
   "metadata": {},
   "outputs": [
    {
     "data": {
      "text/plain": [
       "\u001b[0;31mSignature:\u001b[0m\n",
       "\u001b[0mread_lucretia\u001b[0m\u001b[0;34m(\u001b[0m\u001b[0;34m\u001b[0m\n",
       "\u001b[0;34m\u001b[0m    \u001b[0mfilename\u001b[0m\u001b[0;34m,\u001b[0m\u001b[0;34m\u001b[0m\n",
       "\u001b[0;34m\u001b[0m    \u001b[0mele_name\u001b[0m\u001b[0;34m=\u001b[0m\u001b[0;34m''\u001b[0m\u001b[0;34m,\u001b[0m\u001b[0;34m\u001b[0m\n",
       "\u001b[0;34m\u001b[0m    \u001b[0mt_ref\u001b[0m\u001b[0;34m=\u001b[0m\u001b[0;36m0\u001b[0m\u001b[0;34m,\u001b[0m\u001b[0;34m\u001b[0m\n",
       "\u001b[0;34m\u001b[0m    \u001b[0mkill_dead_particles\u001b[0m\u001b[0;34m=\u001b[0m\u001b[0;32mTrue\u001b[0m\u001b[0;34m,\u001b[0m\u001b[0;34m\u001b[0m\n",
       "\u001b[0;34m\u001b[0m    \u001b[0mverbose\u001b[0m\u001b[0;34m=\u001b[0m\u001b[0;32mFalse\u001b[0m\u001b[0;34m,\u001b[0m\u001b[0;34m\u001b[0m\n",
       "\u001b[0;34m\u001b[0m\u001b[0;34m)\u001b[0m\u001b[0;34m\u001b[0m\u001b[0;34m\u001b[0m\u001b[0m\n",
       "\u001b[0;31mDocstring:\u001b[0m\n",
       "Lucretia's format is described in:\n",
       "\n",
       "    https://www.slac.stanford.edu/accel/ilc/codes/Lucretia/web/beam.html\n",
       "    \n",
       "One Lucretia \".mat\" file can include beams at multiple lattice elements.\n",
       "To find the beam at one element, one has to follow down this order of \"fields\":\n",
       "\n",
       "    bstore >> ele_name >> Bunch >> x,\n",
       "\n",
       "in which x is a 6-to-Np array with:\n",
       "\n",
       "    Lucretia x  = x in m\n",
       "    Lucretia px = px/p in radian \n",
       "    Lucretia y  = y in m\n",
       "    Lucretia py = py/p in radian \n",
       "    Lucretia z  = (t - t_ref)*c in m\n",
       "    Lucretia p  = p in GeV/c\n",
       "    \n",
       "Note that p is the total, not reference, momentum.\n",
       "t_ref is zero by default.\n",
       "\n",
       "To access valid element names in a Lucretia beam file, do:\n",
       "\n",
       "    dat = sio.loadmat('filename.mat')\n",
       "    print(dat['bstore'].dtype)\n",
       "    \n",
       "\u001b[0;31mFile:\u001b[0m      /global/u2/w/wlou1991/GitHub/Matlab_Lucretia/Lucretia.py\n",
       "\u001b[0;31mType:\u001b[0m      function\n"
      ]
     },
     "metadata": {},
     "output_type": "display_data"
    }
   ],
   "source": [
    "?read_lucretia"
   ]
  },
  {
   "cell_type": "code",
   "execution_count": 2,
   "metadata": {},
   "outputs": [
    {
     "name": "stdout",
     "output_type": "stream",
     "text": [
      "1000000 particles detected, 939 found dead!\n",
      "Excluding dead particles (if any)...\n"
     ]
    }
   ],
   "source": [
    "P = read_lucretia('baseline.mat','FC',t_ref=1E-12, verbose=True)"
   ]
  },
  {
   "cell_type": "code",
   "execution_count": 8,
   "metadata": {},
   "outputs": [],
   "source": [
    "write_lucretia('hahaha', P, t_ref=1E-12, ele_name='FC')"
   ]
  },
  {
   "cell_type": "code",
   "execution_count": 9,
   "metadata": {},
   "outputs": [
    {
     "name": "stdout",
     "output_type": "stream",
     "text": [
      "999061 particles detected, 0 found dead!\n",
      "Excluding dead particles (if any)...\n"
     ]
    }
   ],
   "source": [
    "PP = read_lucretia('hahaha','FC',t_ref=1E-12, verbose=True)"
   ]
  },
  {
   "cell_type": "code",
   "execution_count": 17,
   "metadata": {},
   "outputs": [
    {
     "data": {
      "text/plain": [
       "True"
      ]
     },
     "execution_count": 17,
     "metadata": {},
     "output_type": "execute_result"
    }
   ],
   "source": [
    "np.allclose(P.px , PP.px)"
   ]
  },
  {
   "cell_type": "code",
   "execution_count": 16,
   "metadata": {},
   "outputs": [
    {
     "data": {
      "text/plain": [
       "True"
      ]
     },
     "execution_count": 16,
     "metadata": {},
     "output_type": "execute_result"
    }
   ],
   "source": [
    "np.allclose(P.t , PP.t)"
   ]
  }
 ],
 "metadata": {
  "kernelspec": {
   "display_name": "Lume",
   "language": "python",
   "name": "lume"
  },
  "language_info": {
   "codemirror_mode": {
    "name": "ipython",
    "version": 3
   },
   "file_extension": ".py",
   "mimetype": "text/x-python",
   "name": "python",
   "nbconvert_exporter": "python",
   "pygments_lexer": "ipython3",
   "version": "3.7.7"
  }
 },
 "nbformat": 4,
 "nbformat_minor": 4
}
